{
  "nbformat": 4,
  "nbformat_minor": 0,
  "metadata": {
    "colab": {
      "provenance": [],
      "authorship_tag": "ABX9TyPtOE53ZQqDjUsS74DStxdF",
      "include_colab_link": true
    },
    "kernelspec": {
      "name": "python3",
      "display_name": "Python 3"
    },
    "language_info": {
      "name": "python"
    }
  },
  "cells": [
    {
      "cell_type": "markdown",
      "metadata": {
        "id": "view-in-github",
        "colab_type": "text"
      },
      "source": [
        "<a href=\"https://colab.research.google.com/github/FibGro/Pyspark/blob/main/Structure_Data_DF.ipynb\" target=\"_parent\"><img src=\"https://colab.research.google.com/assets/colab-badge.svg\" alt=\"Open In Colab\"/></a>"
      ]
    },
    {
      "cell_type": "code",
      "execution_count": 1,
      "metadata": {
        "colab": {
          "base_uri": "https://localhost:8080/"
        },
        "id": "tiM_n-fefbnx",
        "outputId": "45059e19-f01c-4229-9e19-e8a984cba87b"
      },
      "outputs": [
        {
          "output_type": "stream",
          "name": "stdout",
          "text": [
            "Collecting pyspark\n",
            "  Downloading pyspark-3.5.1.tar.gz (317.0 MB)\n",
            "\u001b[2K     \u001b[90m━━━━━━━━━━━━━━━━━━━━━━━━━━━━━━━━━━━━━━━━\u001b[0m \u001b[32m317.0/317.0 MB\u001b[0m \u001b[31m2.8 MB/s\u001b[0m eta \u001b[36m0:00:00\u001b[0m\n",
            "\u001b[?25h  Preparing metadata (setup.py) ... \u001b[?25l\u001b[?25hdone\n",
            "Requirement already satisfied: py4j==0.10.9.7 in /usr/local/lib/python3.10/dist-packages (from pyspark) (0.10.9.7)\n",
            "Building wheels for collected packages: pyspark\n",
            "  Building wheel for pyspark (setup.py) ... \u001b[?25l\u001b[?25hdone\n",
            "  Created wheel for pyspark: filename=pyspark-3.5.1-py2.py3-none-any.whl size=317488491 sha256=31d3e0985c861df6f401bd8eb944babaa962a615968207d965562781c9a34146\n",
            "  Stored in directory: /root/.cache/pip/wheels/80/1d/60/2c256ed38dddce2fdd93be545214a63e02fbd8d74fb0b7f3a6\n",
            "Successfully built pyspark\n",
            "Installing collected packages: pyspark\n",
            "Successfully installed pyspark-3.5.1\n"
          ]
        }
      ],
      "source": [
        "!pip install pyspark"
      ]
    },
    {
      "cell_type": "code",
      "source": [
        "from pyspark.sql import SparkSession\n",
        "\n",
        "spark = SparkSession.builder.master('local[*]').getOrCreate()"
      ],
      "metadata": {
        "id": "fGar2_NBf0T_"
      },
      "execution_count": 2,
      "outputs": []
    },
    {
      "cell_type": "code",
      "source": [
        "df = spark.read.text('kddcup.data.corrected')\n",
        "df.printSchema()"
      ],
      "metadata": {
        "colab": {
          "base_uri": "https://localhost:8080/"
        },
        "id": "tQQoX1hlgCWZ",
        "outputId": "8da88bf9-4be5-44c9-e5dc-3aac0200793a"
      },
      "execution_count": 6,
      "outputs": [
        {
          "output_type": "stream",
          "name": "stdout",
          "text": [
            "root\n",
            " |-- value: string (nullable = true)\n",
            "\n"
          ]
        }
      ]
    },
    {
      "cell_type": "code",
      "source": [
        "df.show()"
      ],
      "metadata": {
        "colab": {
          "base_uri": "https://localhost:8080/"
        },
        "id": "2pLE2rK3gCfC",
        "outputId": "aaf25e94-9afc-4d1b-fa16-a9c9e681c9a2"
      },
      "execution_count": 5,
      "outputs": [
        {
          "output_type": "stream",
          "name": "stdout",
          "text": [
            "+--------------------+\n",
            "|               value|\n",
            "+--------------------+\n",
            "|0,tcp,http,SF,215...|\n",
            "|0,tcp,http,SF,162...|\n",
            "|0,tcp,http,SF,236...|\n",
            "|0,tcp,http,SF,233...|\n",
            "|0,tcp,http,SF,239...|\n",
            "|0,tcp,http,SF,238...|\n",
            "|0,tcp,http,SF,235...|\n",
            "|0,tcp,http,SF,234...|\n",
            "|0,tcp,http,SF,239...|\n",
            "|0,tcp,http,SF,181...|\n",
            "|0,tcp,http,SF,184...|\n",
            "|0,tcp,http,SF,185...|\n",
            "|0,tcp,http,SF,239...|\n",
            "|0,tcp,http,SF,181...|\n",
            "|0,tcp,http,SF,236...|\n",
            "|0,tcp,http,SF,233...|\n",
            "|0,tcp,http,SF,238...|\n",
            "|0,tcp,http,SF,235...|\n",
            "|0,tcp,http,SF,234...|\n",
            "|0,tcp,http,SF,239...|\n",
            "+--------------------+\n",
            "only showing top 20 rows\n",
            "\n"
          ]
        }
      ]
    },
    {
      "cell_type": "code",
      "source": [
        "# Need to read data split data because of zip format\n",
        "\n",
        "from pyspark.sql.functions import split\n",
        "\n",
        "\n",
        "split_col = split(df['value'], ',')\n",
        "\n",
        "\n",
        "df = df.withColumn('protocol_type', split_col.getItem(1))\\\n",
        "      .withColumn('service', split_col.getItem(2))\\\n",
        "      .withColumn('flag', split_col.getItem(3))\\\n",
        "      .withColumn('src_bytes', split_col.getItem(4))\\\n",
        "      .withColumn('dst_bytes', split_col.getItem(5))\\\n",
        "      .withColumn('urgent', split_col.getItem(8))\\\n",
        "      .withColumn('num_failed_logins', split_col.getItem(10))\\\n",
        "      .withColumn('root_shell', split_col.getItem(13))\\\n",
        "      .withColumn('guest_login', split_col.getItem(21))\\\n",
        "      .withColumn('label', split_col.getItem(41))\\\n",
        "      .drop('value')\n",
        "\n",
        "df.show()"
      ],
      "metadata": {
        "colab": {
          "base_uri": "https://localhost:8080/"
        },
        "id": "qeBvE3zpgCo4",
        "outputId": "bd7241a8-0ea4-491c-b3a2-f7f318e41a9c"
      },
      "execution_count": 8,
      "outputs": [
        {
          "output_type": "stream",
          "name": "stdout",
          "text": [
            "+-------------+-------+----+---------+---------+------+-----------------+----------+-----------+-------+\n",
            "|protocol_type|service|flag|src_bytes|dst_bytes|urgent|num_failed_logins|root_shell|guest_login|  label|\n",
            "+-------------+-------+----+---------+---------+------+-----------------+----------+-----------+-------+\n",
            "|          tcp|   http|  SF|      215|    45076|     0|                0|         0|          0|normal.|\n",
            "|          tcp|   http|  SF|      162|     4528|     0|                0|         0|          0|normal.|\n",
            "|          tcp|   http|  SF|      236|     1228|     0|                0|         0|          0|normal.|\n",
            "|          tcp|   http|  SF|      233|     2032|     0|                0|         0|          0|normal.|\n",
            "|          tcp|   http|  SF|      239|      486|     0|                0|         0|          0|normal.|\n",
            "|          tcp|   http|  SF|      238|     1282|     0|                0|         0|          0|normal.|\n",
            "|          tcp|   http|  SF|      235|     1337|     0|                0|         0|          0|normal.|\n",
            "|          tcp|   http|  SF|      234|     1364|     0|                0|         0|          0|normal.|\n",
            "|          tcp|   http|  SF|      239|     1295|     0|                0|         0|          0|normal.|\n",
            "|          tcp|   http|  SF|      181|     5450|     0|                0|         0|          0|normal.|\n",
            "|          tcp|   http|  SF|      184|      124|     0|                0|         0|          0|normal.|\n",
            "|          tcp|   http|  SF|      185|     9020|     0|                0|         0|          0|normal.|\n",
            "|          tcp|   http|  SF|      239|     1295|     0|                0|         0|          0|normal.|\n",
            "|          tcp|   http|  SF|      181|     5450|     0|                0|         0|          0|normal.|\n",
            "|          tcp|   http|  SF|      236|     1228|     0|                0|         0|          0|normal.|\n",
            "|          tcp|   http|  SF|      233|     2032|     0|                0|         0|          0|normal.|\n",
            "|          tcp|   http|  SF|      238|     1282|     0|                0|         0|          0|normal.|\n",
            "|          tcp|   http|  SF|      235|     1337|     0|                0|         0|          0|normal.|\n",
            "|          tcp|   http|  SF|      234|     1364|     0|                0|         0|          0|normal.|\n",
            "|          tcp|   http|  SF|      239|      486|     0|                0|         0|          0|normal.|\n",
            "+-------------+-------+----+---------+---------+------+-----------------+----------+-----------+-------+\n",
            "only showing top 20 rows\n",
            "\n"
          ]
        }
      ]
    },
    {
      "cell_type": "code",
      "source": [
        "df = df.repartition(10) # shuffle all data\n",
        "print(df.rdd.getNumPartitions())"
      ],
      "metadata": {
        "colab": {
          "base_uri": "https://localhost:8080/"
        },
        "id": "rZXn7AbQgCsi",
        "outputId": "141e5e25-cecd-4081-ba37-17a7f8106a45"
      },
      "execution_count": 10,
      "outputs": [
        {
          "output_type": "stream",
          "name": "stdout",
          "text": [
            "10\n"
          ]
        }
      ]
    },
    {
      "cell_type": "code",
      "source": [
        "# Count the number of connections for each label\n",
        "\n",
        "df.groupby('label').count().orderBy('count', ascending = True).show()"
      ],
      "metadata": {
        "colab": {
          "base_uri": "https://localhost:8080/"
        },
        "id": "5P5g-ZLe76I2",
        "outputId": "37d1795d-ccbc-4d91-f647-15b4605f633a"
      },
      "execution_count": 13,
      "outputs": [
        {
          "output_type": "stream",
          "name": "stdout",
          "text": [
            "+----------------+------+\n",
            "|           label| count|\n",
            "+----------------+------+\n",
            "|           land.|     1|\n",
            "|     loadmodule.|     1|\n",
            "|            phf.|     1|\n",
            "|           imap.|     1|\n",
            "|           perl.|     1|\n",
            "|buffer_overflow.|     3|\n",
            "|       multihop.|     5|\n",
            "|      ftp_write.|     8|\n",
            "|            pod.|    20|\n",
            "|          satan.|    24|\n",
            "|   guess_passwd.|    53|\n",
            "|       teardrop.|    99|\n",
            "|      portsweep.|   405|\n",
            "|           nmap.|  1296|\n",
            "|           back.|  2002|\n",
            "|        ipsweep.|  6556|\n",
            "|        neptune.| 76585|\n",
            "|          smurf.|112574|\n",
            "|         normal.|393014|\n",
            "+----------------+------+\n",
            "\n"
          ]
        }
      ]
    },
    {
      "cell_type": "code",
      "source": [
        "# Get the list of Protocol that are normal and vulnerable to attact, where there is NOT guest login to destiantion address\n",
        "\n",
        "df.createOrReplaceTempView('archive')\n",
        "\n",
        "sql_query = \"\"\" SELECT protocol_type,\n",
        "                CASE label WHEN 'normal.' THEN 'no attack'\n",
        "                ELSE 'attack' END AS attact_type,\n",
        "                COUNT(*) AS freq\n",
        "                FROM  archive\n",
        "                WHERE guest_login != '1'\n",
        "                GROUP BY protocol_type, attact_type \"\"\"\n",
        "\n",
        "spark.sql(sql_query).show()"
      ],
      "metadata": {
        "colab": {
          "base_uri": "https://localhost:8080/"
        },
        "id": "OaQ9sqW_76i6",
        "outputId": "7a60504e-cc68-47d6-e59e-e5d01efad684"
      },
      "execution_count": 19,
      "outputs": [
        {
          "output_type": "stream",
          "name": "stdout",
          "text": [
            "+-------------+-----------+------+\n",
            "|protocol_type|attact_type|  freq|\n",
            "+-------------+-----------+------+\n",
            "|          tcp|  no attack|375093|\n",
            "|          udp|     attack|   355|\n",
            "|          tcp|     attack| 81034|\n",
            "|         icmp|     attack|118241|\n",
            "|         icmp|  no attack|  2235|\n",
            "|          udp|  no attack| 14177|\n",
            "+-------------+-----------+------+\n",
            "\n"
          ]
        }
      ]
    },
    {
      "cell_type": "code",
      "source": [
        "# Apply some descriptive statistics"
      ],
      "metadata": {
        "id": "zDNba6xSgCwE"
      },
      "execution_count": null,
      "outputs": []
    }
  ]
}