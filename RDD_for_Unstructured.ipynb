{
  "nbformat": 4,
  "nbformat_minor": 0,
  "metadata": {
    "colab": {
      "provenance": [],
      "authorship_tag": "ABX9TyPv9utXn/VOpj/jXJnnw8XO",
      "include_colab_link": true
    },
    "kernelspec": {
      "name": "python3",
      "display_name": "Python 3"
    },
    "language_info": {
      "name": "python"
    }
  },
  "cells": [
    {
      "cell_type": "markdown",
      "metadata": {
        "id": "view-in-github",
        "colab_type": "text"
      },
      "source": [
        "<a href=\"https://colab.research.google.com/github/FibGro/Pyspark/blob/main/RDD_for_Unstructured.ipynb\" target=\"_parent\"><img src=\"https://colab.research.google.com/assets/colab-badge.svg\" alt=\"Open In Colab\"/></a>"
      ]
    },
    {
      "cell_type": "code",
      "execution_count": 1,
      "metadata": {
        "colab": {
          "base_uri": "https://localhost:8080/"
        },
        "id": "t6CMLGUtFUEG",
        "outputId": "c80e7f18-ce89-4fa4-d92c-78ced6ca19a7"
      },
      "outputs": [
        {
          "output_type": "stream",
          "name": "stdout",
          "text": [
            "Collecting pyspark\n",
            "  Downloading pyspark-3.5.1.tar.gz (317.0 MB)\n",
            "\u001b[2K     \u001b[90m━━━━━━━━━━━━━━━━━━━━━━━━━━━━━━━━━━━━━━━━\u001b[0m \u001b[32m317.0/317.0 MB\u001b[0m \u001b[31m3.5 MB/s\u001b[0m eta \u001b[36m0:00:00\u001b[0m\n",
            "\u001b[?25h  Preparing metadata (setup.py) ... \u001b[?25l\u001b[?25hdone\n",
            "Requirement already satisfied: py4j==0.10.9.7 in /usr/local/lib/python3.10/dist-packages (from pyspark) (0.10.9.7)\n",
            "Building wheels for collected packages: pyspark\n",
            "  Building wheel for pyspark (setup.py) ... \u001b[?25l\u001b[?25hdone\n",
            "  Created wheel for pyspark: filename=pyspark-3.5.1-py2.py3-none-any.whl size=317488491 sha256=9ec3cf9a6ac3f63ce0246384f6de28f7b8458b02606db4ed845658eecaaf5637\n",
            "  Stored in directory: /root/.cache/pip/wheels/80/1d/60/2c256ed38dddce2fdd93be545214a63e02fbd8d74fb0b7f3a6\n",
            "Successfully built pyspark\n",
            "Installing collected packages: pyspark\n",
            "Successfully installed pyspark-3.5.1\n"
          ]
        }
      ],
      "source": [
        "!pip install pyspark"
      ]
    },
    {
      "cell_type": "code",
      "source": [
        "from pyspark import SparkConf, SparkContext\n",
        "\n",
        "\n",
        "\n",
        "conf = SparkConf().setMaster(\"local[*]\").setAppName(\"GHTorent\")\n",
        "sc = SparkContext(conf=conf)"
      ],
      "metadata": {
        "id": "4EOl5dJ6Fkoe"
      },
      "execution_count": 3,
      "outputs": []
    },
    {
      "cell_type": "code",
      "source": [
        "rdd = sc.textFile('ghtorrent-logs.txt')"
      ],
      "metadata": {
        "id": "ZU12lVmOJrAS"
      },
      "execution_count": 4,
      "outputs": []
    },
    {
      "cell_type": "markdown",
      "source": [],
      "metadata": {
        "id": "DImXK2D8KQVD"
      }
    },
    {
      "cell_type": "code",
      "source": [
        "rdd = rdd.repartition(10)\n",
        "\n",
        "\n",
        "from pyspark import StorageLevel\n",
        "rdd.persist(StorageLevel.MEMORY_AND_DISK)\n",
        "\n",
        "rdd.persist(storageLevel=StorageLevel.MEMORY_AND_DISK)"
      ],
      "metadata": {
        "colab": {
          "base_uri": "https://localhost:8080/"
        },
        "id": "U4R7PVrKKE9G",
        "outputId": "bf627881-1345-431b-94a9-1db1cfdfd980"
      },
      "execution_count": 6,
      "outputs": [
        {
          "output_type": "execute_result",
          "data": {
            "text/plain": [
              "MapPartitionsRDD[10] at coalesce at NativeMethodAccessorImpl.java:0"
            ]
          },
          "metadata": {},
          "execution_count": 6
        }
      ]
    },
    {
      "cell_type": "code",
      "source": [
        "# Count the number of record\n",
        "\n",
        "print(rdd.count())"
      ],
      "metadata": {
        "colab": {
          "base_uri": "https://localhost:8080/"
        },
        "id": "9FAdPtbuKb-X",
        "outputId": "4046fbc5-8642-4ab9-d657-f3bc3a311fbe"
      },
      "execution_count": 7,
      "outputs": [
        {
          "output_type": "stream",
          "name": "stdout",
          "text": [
            "2786082\n"
          ]
        }
      ]
    },
    {
      "cell_type": "code",
      "source": [
        "rdd.takeSample(False, 10)"
      ],
      "metadata": {
        "colab": {
          "base_uri": "https://localhost:8080/"
        },
        "id": "yEwkT_yuKcBR",
        "outputId": "d7f80849-dcfa-448b-de2e-557f5f41b7c5"
      },
      "execution_count": 8,
      "outputs": [
        {
          "output_type": "execute_result",
          "data": {
            "text/plain": [
              "['DEBUG, 2017-03-23T11:13:28+00:00, ghtorrent-18 -- ghtorrent.rb: User makeen-project exists',\n",
              " 'DEBUG, 2017-03-23T11:19:55+00:00, ghtorrent-40 -- retriever.rb: Issue event jzse/reactjs-tictactoe 4->1005719100 exists',\n",
              " 'INFO, 2017-03-24T13:51:00+00:00, ghtorrent-46 -- ghtorrent.rb: Added commit_assoc of ae556a126b0bbcbdc6d0846305c4e44f63078db6 with amateo/puppet-dovecot',\n",
              " 'DEBUG, 2017-03-24T12:57:16+00:00, ghtorrent-46 -- ghtorrent.rb: Repo Tencent/mars exists',\n",
              " 'DEBUG, 2017-03-23T10:06:43+00:00, ghtorrent-20 -- ghtorrent.rb: Commit gluster/gluster-kubernetes -> c0d7900ff2fba3ff604a7e6b8493eef7cbadff5e exists',\n",
              " 'INFO, 2017-03-23T10:08:44+00:00, ghtorrent-18 -- retriever.rb: Added issues ShaunLim123/FYPJ -> 41',\n",
              " 'DEBUG, 2017-03-23T09:19:51+00:00, ghtorrent-23 -- ghtorrent.rb: Repo ryu8179/UniRxWorkBook exists',\n",
              " 'INFO, 2017-03-23T11:17:33+00:00, ghtorrent-4 -- api_client.rb: Successful request. URL: https://api.github.com/repos/mandykuo/assign-2/labels/wontfix, Remaining: 1039, Total: 86 ms',\n",
              " 'DEBUG, 2017-03-24T12:06:52+00:00, ghtorrent-47 -- ghtorrent.rb: User mabedo1617daw2 exists',\n",
              " 'DEBUG, 2017-03-23T09:23:37+00:00, ghtorrent-36 -- ghtorrent.rb: Repo katylouise/parliament.uk-prototype exists']"
            ]
          },
          "metadata": {},
          "execution_count": 8
        }
      ]
    },
    {
      "cell_type": "code",
      "source": [
        "# Get the number of lines woth both transaction or Repo information\n",
        "\n",
        "import re\n",
        "def collect_words(line):\n",
        "  return re.compile('\\w+').findall(line.lower())\n",
        "\n",
        "rdd_transactions = rdd.filter(lambda line: 'transaction' in collect_words(line))\n",
        "rdd_repo = rdd.filter(lambda line : 'repo' in collect_words(line))\n",
        "\n",
        "rdd_intersect = rdd_transactions.intersection(rdd_repo)\n",
        "rdd_intersect.count()"
      ],
      "metadata": {
        "colab": {
          "base_uri": "https://localhost:8080/"
        },
        "id": "nfUFcfQ9LDrG",
        "outputId": "fab24c1d-3de6-406b-c1bf-03bae93f5e29"
      },
      "execution_count": 9,
      "outputs": [
        {
          "output_type": "execute_result",
          "data": {
            "text/plain": [
              "9"
            ]
          },
          "metadata": {},
          "execution_count": 9
        }
      ]
    },
    {
      "cell_type": "code",
      "source": [
        "import re\n",
        "def get_url(line):\n",
        "  return re.findall(r'http[s]?://(?:[-\\w]|(?:%[da-zA-Z]{2,}))+', line)  # Changed {2,0} to {2,}\n",
        "\n",
        "rdd.filter(lambda line : line.split(',')[0] == 'WARN') \\\n",
        "    .filter(lambda line : len(get_url(line))>1) \\\n",
        "    .count()"
      ],
      "metadata": {
        "colab": {
          "base_uri": "https://localhost:8080/"
        },
        "id": "f-A61CmWLDuQ",
        "outputId": "b09aefd3-30ae-47ef-f81c-2b33aa6481d9"
      },
      "execution_count": 11,
      "outputs": [
        {
          "output_type": "execute_result",
          "data": {
            "text/plain": [
              "12"
            ]
          },
          "metadata": {},
          "execution_count": 11
        }
      ]
    },
    {
      "cell_type": "code",
      "source": [
        "# What is the most active downloader id for Failed connections?\n",
        "\n",
        "rdd_failed = rdd.filter(lambda line: 'failed' in collect_words(line))\n",
        "\n",
        "# Create key and values\n",
        "rdd_active_ids = rdd_failed.map(lambda line: (line.replace('--', ',').split(',')[2].split('-')[1],1))\n",
        "\n",
        "# groupbykey\n",
        "rdd_active_ids.groupByKey(4).mapValues(sum).sortBy(lambda x : x[1], ascending =False).first()\n",
        "\n",
        "# reducebykey\n",
        "rdd_active_ids.reduceByKey(lambda x,y: x+y).sortBy(lambda x : x[1], ascending =False).first()"
      ],
      "metadata": {
        "id": "iAOyqN5wLDwU"
      },
      "execution_count": null,
      "outputs": []
    },
    {
      "cell_type": "code",
      "source": [
        "# What is the most active respository\n",
        "\n"
      ],
      "metadata": {
        "id": "LO7yUDfVLDy9"
      },
      "execution_count": null,
      "outputs": []
    },
    {
      "cell_type": "code",
      "source": [],
      "metadata": {
        "id": "Ynd43qGILD1P"
      },
      "execution_count": null,
      "outputs": []
    },
    {
      "cell_type": "code",
      "source": [],
      "metadata": {
        "id": "5l3dQWDoLD4P"
      },
      "execution_count": null,
      "outputs": []
    },
    {
      "cell_type": "code",
      "source": [],
      "metadata": {
        "id": "8l93Xyr0KcDu"
      },
      "execution_count": null,
      "outputs": []
    },
    {
      "cell_type": "code",
      "source": [],
      "metadata": {
        "id": "jAYf66XfKcGD"
      },
      "execution_count": null,
      "outputs": []
    },
    {
      "cell_type": "code",
      "source": [],
      "metadata": {
        "id": "PYkjrjYyKcNQ"
      },
      "execution_count": null,
      "outputs": []
    }
  ]
}