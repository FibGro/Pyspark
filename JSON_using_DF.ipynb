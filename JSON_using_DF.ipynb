{
  "nbformat": 4,
  "nbformat_minor": 0,
  "metadata": {
    "colab": {
      "provenance": [],
      "authorship_tag": "ABX9TyM90m2cuG4GMP3ZbpfXVejt",
      "include_colab_link": true
    },
    "kernelspec": {
      "name": "python3",
      "display_name": "Python 3"
    },
    "language_info": {
      "name": "python"
    }
  },
  "cells": [
    {
      "cell_type": "markdown",
      "metadata": {
        "id": "view-in-github",
        "colab_type": "text"
      },
      "source": [
        "<a href=\"https://colab.research.google.com/github/FibGro/Pyspark/blob/main/JSON_using_DF.ipynb\" target=\"_parent\"><img src=\"https://colab.research.google.com/assets/colab-badge.svg\" alt=\"Open In Colab\"/></a>"
      ]
    },
    {
      "cell_type": "code",
      "execution_count": 1,
      "metadata": {
        "colab": {
          "base_uri": "https://localhost:8080/"
        },
        "id": "vdJKZIt3y5q9",
        "outputId": "fe15116a-a58c-438b-9e6b-18b7c4d05080"
      },
      "outputs": [
        {
          "output_type": "stream",
          "name": "stdout",
          "text": [
            "Collecting pyspark\n",
            "  Downloading pyspark-3.5.1.tar.gz (317.0 MB)\n",
            "\u001b[2K     \u001b[90m━━━━━━━━━━━━━━━━━━━━━━━━━━━━━━━━━━━━━━━━\u001b[0m \u001b[32m317.0/317.0 MB\u001b[0m \u001b[31m3.3 MB/s\u001b[0m eta \u001b[36m0:00:00\u001b[0m\n",
            "\u001b[?25h  Preparing metadata (setup.py) ... \u001b[?25l\u001b[?25hdone\n",
            "Requirement already satisfied: py4j==0.10.9.7 in /usr/local/lib/python3.10/dist-packages (from pyspark) (0.10.9.7)\n",
            "Building wheels for collected packages: pyspark\n",
            "  Building wheel for pyspark (setup.py) ... \u001b[?25l\u001b[?25hdone\n",
            "  Created wheel for pyspark: filename=pyspark-3.5.1-py2.py3-none-any.whl size=317488491 sha256=6b2abf93a2c340093761ca1bd4acd348119ac1bb1e16287a50305781ef9e989b\n",
            "  Stored in directory: /root/.cache/pip/wheels/80/1d/60/2c256ed38dddce2fdd93be545214a63e02fbd8d74fb0b7f3a6\n",
            "Successfully built pyspark\n",
            "Installing collected packages: pyspark\n",
            "Successfully installed pyspark-3.5.1\n"
          ]
        }
      ],
      "source": [
        "!pip install pyspark"
      ]
    },
    {
      "cell_type": "code",
      "source": [
        "from pyspark.sql import SparkSession\n",
        "spark = SparkSession.builder.master('local[*]').getOrCreate()"
      ],
      "metadata": {
        "id": "ZAoIxjInzaKU"
      },
      "execution_count": 7,
      "outputs": []
    },
    {
      "cell_type": "code",
      "source": [
        "df = spark.read.json('arxiv-metadata-oai-snapshot.json')\n",
        "df.printSchema()"
      ],
      "metadata": {
        "colab": {
          "base_uri": "https://localhost:8080/"
        },
        "id": "GfZnqvoHz26c",
        "outputId": "262a8ea2-8078-4d5b-e177-64cb99540c44"
      },
      "execution_count": 8,
      "outputs": [
        {
          "output_type": "stream",
          "name": "stdout",
          "text": [
            "root\n",
            " |-- abstract: string (nullable = true)\n",
            " |-- authors: string (nullable = true)\n",
            " |-- authors_parsed: array (nullable = true)\n",
            " |    |-- element: array (containsNull = true)\n",
            " |    |    |-- element: string (containsNull = true)\n",
            " |-- categories: string (nullable = true)\n",
            " |-- comments: string (nullable = true)\n",
            " |-- doi: string (nullable = true)\n",
            " |-- id: string (nullable = true)\n",
            " |-- journal-ref: string (nullable = true)\n",
            " |-- license: string (nullable = true)\n",
            " |-- report-no: string (nullable = true)\n",
            " |-- submitter: string (nullable = true)\n",
            " |-- title: string (nullable = true)\n",
            " |-- update_date: string (nullable = true)\n",
            " |-- versions: array (nullable = true)\n",
            " |    |-- element: struct (containsNull = true)\n",
            " |    |    |-- created: string (nullable = true)\n",
            " |    |    |-- version: string (nullable = true)\n",
            "\n"
          ]
        }
      ]
    },
    {
      "cell_type": "code",
      "source": [
        "df.rdd.getNumPartitions()"
      ],
      "metadata": {
        "colab": {
          "base_uri": "https://localhost:8080/"
        },
        "id": "24keNQ8P0ON6",
        "outputId": "716dcd8c-178a-42c3-9373-c29e67832f43"
      },
      "execution_count": 10,
      "outputs": [
        {
          "output_type": "execute_result",
          "data": {
            "text/plain": [
              "2"
            ]
          },
          "metadata": {},
          "execution_count": 10
        }
      ]
    },
    {
      "cell_type": "code",
      "source": [
        "# Create a new Schema\n",
        "\n",
        "from pyspark.sql.types import *\n",
        "\n",
        "\n",
        "Schema = StructType([\n",
        "    StructField('authors', StringType(), True),\n",
        "    StructField('categories', StringType(), True),\n",
        "    StructField('license', StringType(), True),\n",
        "    StructField('abstract', StringType(), True),\n",
        "    StructField('comments', StringType(), True),\n",
        "    StructField('versions', ArrayType(StringType()), True)\n",
        "\n",
        "\n",
        "])\n",
        "\n",
        "print(Schema)"
      ],
      "metadata": {
        "colab": {
          "base_uri": "https://localhost:8080/"
        },
        "id": "jcYRRXDD0kj6",
        "outputId": "2bf8fa54-2caf-4559-edd1-7d2c8ef53163"
      },
      "execution_count": 38,
      "outputs": [
        {
          "output_type": "stream",
          "name": "stdout",
          "text": [
            "StructType([StructField('authors', StringType(), True), StructField('categories', StringType(), True), StructField('license', StringType(), True), StructField('abstract', StringType(), True), StructField('comments', StringType(), True), StructField('versions', ArrayType(StringType(), True), True)])\n"
          ]
        }
      ]
    },
    {
      "cell_type": "code",
      "source": [
        "# Binding data into a Schema\n",
        "\n",
        "df = spark.read.json('arxiv-metadata-oai-snapshot.json', schema = Schema)\n",
        "df.show()"
      ],
      "metadata": {
        "colab": {
          "base_uri": "https://localhost:8080/"
        },
        "id": "bNKjrp210koU",
        "outputId": "38ef2ade-8acb-4784-ffce-ae7300be01b2"
      },
      "execution_count": 42,
      "outputs": [
        {
          "output_type": "stream",
          "name": "stdout",
          "text": [
            "+--------------------+-----------------+--------------------+--------------------+--------------------+--------------------+\n",
            "|             authors|       categories|             license|            abstract|            comments|            versions|\n",
            "+--------------------+-----------------+--------------------+--------------------+--------------------+--------------------+\n",
            "|C. Bal\\'azs, E. L...|           hep-ph|                NULL|  A fully differe...|37 pages, 15 figu...|[{\"version\":\"v1\",...|\n",
            "|Ileana Streinu an...|    math.CO cs.CG|http://arxiv.org/...|  We describe a n...|To appear in Grap...|[{\"version\":\"v1\",...|\n",
            "|         Hongjun Pan|   physics.gen-ph|                NULL|  The evolution o...| 23 pages, 3 figures|[{\"version\":\"v1\",...|\n",
            "|        David Callan|          math.CO|                NULL|  We show that a ...|            11 pages|[{\"version\":\"v1\",...|\n",
            "|Wael Abu-Shammala...|  math.CA math.FA|                NULL|  In this paper w...|                NULL|[{\"version\":\"v1\",...|\n",
            "|Y. H. Pong and C....|cond-mat.mes-hall|                NULL|  We study the tw...|6 pages, 4 figure...|[{\"version\":\"v1\",...|\n",
            "|Alejandro Corichi...|            gr-qc|                NULL|  A rather non-st...|16 pages, no figu...|[{\"version\":\"v1\",...|\n",
            "|     Damian C. Swift|cond-mat.mtrl-sci|http://arxiv.org/...|  A general formu...|   Minor corrections|[{\"version\":\"v1\",...|\n",
            "|Paul Harvey, Brun...|         astro-ph|                NULL|  We discuss the ...|                NULL|[{\"version\":\"v1\",...|\n",
            "|  Sergei Ovchinnikov|          math.CO|                NULL|  Partial cubes a...|36 pages, 17 figures|[{\"version\":\"v1\",...|\n",
            "|Clifton Cunningha...|  math.NT math.AG|http://arxiv.org/...|  In this paper w...|14 pages; title c...|[{\"version\":\"v1\",...|\n",
            "|         Dohoon Choi|          math.NT|                NULL|  Recently, Bruin...|                NULL|[{\"version\":\"v1\",...|\n",
            "|Dohoon Choi and Y...|          math.NT|                NULL|  Serre obtained ...|                NULL|[{\"version\":\"v1\",...|\n",
            "|        Koichi Fujii|  math.CA math.AT|                NULL|  In this article...|  18 pages, 1 figure|[{\"version\":\"v1\",...|\n",
            "|     Christian Stahn|           hep-th|                NULL|  The pure spinor...|22 pages; signs a...|[{\"version\":\"v1\",...|\n",
            "|Chao-Hsi Chang, T...|           hep-ph|                NULL|  In this work, w...|17 pages, 3 figur...|[{\"version\":\"v1\",...|\n",
            "|Nceba Mhlahlo, Da...|         astro-ph|                NULL|  Results from sp...|10 pages, 11 figu...|[{\"version\":\"v1\",...|\n",
            "|  Andreas Gustavsson|           hep-th|                NULL|  We give a presc...|20 pages, v2: an ...|[{\"version\":\"v1\",...|\n",
            "|         Norio Konno|  math.PR math.AG|                NULL|  In this note we...|6 pages, Journal-...|[{\"version\":\"v1\",...|\n",
            "|The BABAR Collabo...|           hep-ex|                NULL|  The shape of th...|21 pages, 13 post...|[{\"version\":\"v1\",...|\n",
            "+--------------------+-----------------+--------------------+--------------------+--------------------+--------------------+\n",
            "only showing top 20 rows\n",
            "\n"
          ]
        }
      ]
    },
    {
      "cell_type": "code",
      "source": [
        "# Gt author names who published a [a[er in a 'math' category\n",
        "\n",
        "# register DF to be used in SparkSQL\n",
        "\n",
        "df.createOrReplaceTempView('Archive')\n",
        "\n",
        "sql_query = \"\"\" SELECT authors\n",
        "                FROM Archive\n",
        "                WHERE categories LIKE 'math%' \"\"\"\n",
        "\n",
        "sql_query_df = spark.sql(sql_query)\n",
        "sql_query_df.show()"
      ],
      "metadata": {
        "colab": {
          "base_uri": "https://localhost:8080/"
        },
        "id": "ZcSpsvcT0kqb",
        "outputId": "176829d0-e9eb-457b-f30d-cb0287b90e9d"
      },
      "execution_count": 45,
      "outputs": [
        {
          "output_type": "stream",
          "name": "stdout",
          "text": [
            "+--------------------+\n",
            "|             authors|\n",
            "+--------------------+\n",
            "|Ileana Streinu an...|\n",
            "|        David Callan|\n",
            "|Wael Abu-Shammala...|\n",
            "|  Sergei Ovchinnikov|\n",
            "|Clifton Cunningha...|\n",
            "|         Dohoon Choi|\n",
            "|Dohoon Choi and Y...|\n",
            "|        Koichi Fujii|\n",
            "|         Norio Konno|\n",
            "|Simon J.A. Malham...|\n",
            "|Robert P. C. de M...|\n",
            "|  P\\'eter E. Frenkel|\n",
            "|          Mihai Popa|\n",
            "|   Debashish Goswami|\n",
            "|      Mikkel {\\O}bro|\n",
            "|Nabil L. Youssef,...|\n",
            "|Wael Abu-Shammala...|\n",
            "|         Boris Rubin|\n",
            "|         A. I. Molev|\n",
            "| Branko J. Malesevic|\n",
            "+--------------------+\n",
            "only showing top 20 rows\n",
            "\n"
          ]
        }
      ]
    },
    {
      "cell_type": "code",
      "source": [
        "# # Get license with 5 or more letters in the abstract\n",
        "\n",
        "sql_query = \"\"\" SELECT distinct(license)\n",
        "                FROM Archive\n",
        "                WHERE abstract REGEXP '%\\(([A-Za-z][^_?\\\\<>]{5,})\\)%' \"\"\"\n",
        "\n",
        "sql_query_df = spark.sql(sql_query)\n",
        "sql_query_df.show()"
      ],
      "metadata": {
        "colab": {
          "base_uri": "https://localhost:8080/"
        },
        "id": "UAbaTwBV0ktD",
        "outputId": "a264cccc-62c0-4332-ad28-eb45c7e034b6"
      },
      "execution_count": 46,
      "outputs": [
        {
          "output_type": "stream",
          "name": "stdout",
          "text": [
            "+--------------------+\n",
            "|             license|\n",
            "+--------------------+\n",
            "|http://arxiv.org/...|\n",
            "|http://creativeco...|\n",
            "|http://creativeco...|\n",
            "|                NULL|\n",
            "+--------------------+\n",
            "\n"
          ]
        }
      ]
    },
    {
      "cell_type": "code",
      "source": [
        "# Extract the statitics of the number of pages for unknown licenses\n",
        "\n",
        "# Get the average of pages\n",
        "\n",
        "import re\n",
        "\n",
        "def get_page(line):\n",
        "  search = re.findall('\\d+ pages', line)\n",
        "  if search:\n",
        "    return int(search[0].split(' ')[0])\n",
        "  else:\n",
        "    return 0\n"
      ],
      "metadata": {
        "id": "_0EYSEAM0kvW"
      },
      "execution_count": 47,
      "outputs": []
    },
    {
      "cell_type": "code",
      "source": [
        "# Extract the statitics of the number of pages for unknown licenses\n",
        "\n",
        "# Get the average of pages\n",
        "\n",
        "import re\n",
        "\n",
        "def get_page(line):\n",
        "  if line is not None: # Check if line is not null\n",
        "    search = re.findall('\\d+ pages', line)\n",
        "    if search:\n",
        "      return int(search[0].split(' ')[0])\n",
        "  return 0 # Return 0 for null or no match cases\n",
        "\n",
        "# Register the udf\n",
        "\n",
        "spark.udf.register('PageNumbers', get_page)\n",
        "\n",
        "# Corrected SQL query with single quotes\n",
        "sql_query = \"\"\" SELECT AVG(PageNumbers(comments)) AS avg_pages,\n",
        "                  SUM(PageNumbers(comments)) AS sum_pages\n",
        "                  FROM Archive\n",
        "                  WHERE license IS NULL \"\"\"\n",
        "\n",
        "sql_query_df = spark.sql(sql_query)\n",
        "sql_query_df.show()"
      ],
      "metadata": {
        "colab": {
          "base_uri": "https://localhost:8080/"
        },
        "id": "yCpUC6Dy0kxd",
        "outputId": "486ce71e-6102-43fe-ce44-0521a322f106"
      },
      "execution_count": 51,
      "outputs": [
        {
          "output_type": "stream",
          "name": "stdout",
          "text": [
            "+-----------------+---------+\n",
            "|        avg_pages|sum_pages|\n",
            "+-----------------+---------+\n",
            "|10.99002891844997| 475044.0|\n",
            "+-----------------+---------+\n",
            "\n"
          ]
        }
      ]
    },
    {
      "cell_type": "code",
      "source": [],
      "metadata": {
        "id": "tvABSsTb0kz6"
      },
      "execution_count": 10,
      "outputs": []
    },
    {
      "cell_type": "code",
      "source": [],
      "metadata": {
        "id": "b1mfuIuE0k3E"
      },
      "execution_count": 10,
      "outputs": []
    },
    {
      "cell_type": "code",
      "source": [],
      "metadata": {
        "id": "DFfrw9Gb0k6l"
      },
      "execution_count": 10,
      "outputs": []
    },
    {
      "cell_type": "code",
      "source": [],
      "metadata": {
        "id": "HdyMpapU0lAP"
      },
      "execution_count": 10,
      "outputs": []
    },
    {
      "cell_type": "code",
      "source": [],
      "metadata": {
        "id": "fjQntz9W0lE5"
      },
      "execution_count": null,
      "outputs": []
    }
  ]
}